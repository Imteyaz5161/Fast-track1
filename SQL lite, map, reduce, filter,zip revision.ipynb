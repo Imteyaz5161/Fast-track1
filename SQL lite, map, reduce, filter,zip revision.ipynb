{
 "cells": [
  {
   "cell_type": "code",
   "execution_count": 1,
   "id": "9abfa7bf",
   "metadata": {},
   "outputs": [],
   "source": [
    "import sqlite3"
   ]
  },
  {
   "cell_type": "code",
   "execution_count": 2,
   "id": "0ce883de",
   "metadata": {},
   "outputs": [],
   "source": [
    "db = sqlite3.connect(\"ineuron.db\")"
   ]
  },
  {
   "cell_type": "code",
   "execution_count": 3,
   "id": "2968f137",
   "metadata": {},
   "outputs": [
    {
     "name": "stdout",
     "output_type": "stream",
     "text": [
      " Volume in drive C has no label.\n",
      " Volume Serial Number is 9CD5-FCE1\n",
      "\n",
      " Directory of C:\\Users\\mdimt\n",
      "\n",
      "14-11-2022  15:31            36,257  12th Nov Live Class Functions revision.ipynb\n",
      "25-11-2022  22:43    <DIR>          .\n",
      "25-11-2022  22:43    <DIR>          ..\n",
      "06-11-2022  21:59    <DIR>          .anaconda\n",
      "06-11-2022  23:06    <DIR>          .conda\n",
      "22-05-2021  01:35                25 .condarc\n",
      "22-05-2021  01:35    <DIR>          .continuum\n",
      "19-10-2022  20:09                53 .git-for-windows-updater\n",
      "01-07-2021  23:01    <DIR>          .idlerc\n",
      "25-11-2022  22:40    <DIR>          .ipynb_checkpoints\n",
      "22-05-2021  01:39    <DIR>          .ipython\n",
      "29-10-2022  16:59    <DIR>          .jupyter\n",
      "06-06-2021  02:13    <DIR>          .matplotlib\n",
      "26-10-2022  17:39    <DIR>          .spyder-py3\n",
      "07-10-2022  21:43    <DIR>          .vscode\n",
      "15-11-2022  22:42    <DIR>          __pycache__\n",
      "28-10-2022  22:49        23,553,184 1.Python Fundamentals and Advanced Python.zip\n",
      "14-11-2022  22:32            25,125 13th Nov Live Class Functions 4 revision.ipynb\n",
      "25-11-2022  18:44    <DIR>          19.3 MongoDB\n",
      "23-11-2022  20:02         4,407,102 19.3 MongoDB.7z\n",
      "31-10-2022  17:35            21,059 29th Oct Live Class Function Basic Revision.ipynb\n",
      "21-05-2021  04:09    <DIR>          3D Objects\n",
      "22-05-2021  01:14    <DIR>          anaconda3\n",
      "21-10-2022  00:42            10,061 Assignment_1.docx\n",
      "18-11-2022  17:27            51,867 car.data\n",
      "24-11-2022  16:37           628,633 carbon_nanotubes.csv\n",
      "19-11-2022  23:43            19,879 class assignment oops.ipynb\n",
      "21-05-2021  04:09    <DIR>          Contacts\n",
      "01-07-2021  23:11    <DIR>          Credit Card Risk Assessment\n",
      "20-10-2022  20:18            59,629 demo_002.ipynb\n",
      "26-10-2022  15:57            57,559 demo_003.ipynb\n",
      "20-10-2022  20:20            45,893 demo_2 live_classes_ineuron_revision.ipynb\n",
      "15-11-2022  22:42                 0 dict.log\n",
      "21-05-2021  04:18    <DIR>          Documents\n",
      "24-11-2022  23:59    <DIR>          Downloads\n",
      "19-11-2022  23:45            13,907 Exception Handling Class 2.ipynb\n",
      "08-11-2022  21:26             9,192 Exception Handling Class1 Part1.ipynb\n",
      "21-05-2021  04:09    <DIR>          Favorites\n",
      "03-11-2022  00:26            10,428 For Loop & While Loops Revision.ipynb\n",
      "03-11-2022  15:20            25,890 for loops while loop.ipynb\n",
      "14-10-2022  00:42            10,742 FSDS_bootcamp_assignment_002_Oct_01.ipynb\n",
      "28-10-2022  19:31             5,294 FSDS_bootcamp_assignment_004_Oct_09 (1).ipynb\n",
      "07-11-2022  17:43            31,508 Function and holiday task.ipynb\n",
      "06-11-2022  20:52            60,343 Function continued.ipynb\n",
      "04-11-2022  02:08            18,716 function part1.ipynb\n",
      "06-11-2022  00:28            62,066 function part2.ipynb\n",
      "08-11-2022  14:44             1,763 functions task 20 question.txt\n",
      "16-11-2022  23:44            11,903 glass.data\n",
      "09-11-2022  22:09            43,659 holiday 20 assignment.ipynb\n",
      "25-11-2022  19:39             8,192 ineuron.db\n",
      "09-11-2022  17:43            23,501 Iterator Generator File System.ipynb\n",
      "08-11-2022  02:20        21,685,761 iterator generator.ipynb\n",
      "01-07-2021  23:12    <DIR>          Jedi\n",
      "25-11-2022  19:04            12,288 jobdb.db\n",
      "30-06-2021  14:39                 0 jupyter\n",
      "12-05-2022  12:24    <DIR>          Links\n",
      "26-10-2022  15:42             9,919 live_3demo_classes_ineuron_revision.ipynb\n",
      "30-10-2022  00:07            16,593 live_classes_revision_29oct.ipynb\n",
      "15-11-2022  22:24             5,993 logging (1).ipynb\n",
      "10-11-2022  01:53             6,194 Logging class.ipynb\n",
      "23-10-2022  00:20    <DIR>          Microsoft\n",
      "19-11-2022  23:43            10,625 Module_Packages.ipynb\n",
      "24-11-2022  16:59            75,694 mongo db class1 revision.ipynb\n",
      "24-11-2022  20:39            57,341 mongodb class 1.ipynb\n",
      "28-05-2022  11:32    <DIR>          Music\n",
      "15-11-2022  22:55                 0 mydict.py\n",
      "06-11-2022  23:23           163,679 nbextensions.ipynb\n",
      "24-11-2022  17:09    <DIR>          OneDrive\n",
      "13-11-2022  22:07            39,946 oops 29th .ipynb\n",
      "15-11-2022  22:28            43,392 oops 30th.ipynb\n",
      "19-11-2022  23:45            41,465 oops class 1.ipynb\n",
      "13-11-2022  19:09            40,284 Oops class part2.ipynb\n",
      "15-11-2022  22:29            44,127 OOPs Concepts Polymorphism revision.ipynb\n",
      "19-11-2022  23:45            11,842 Oops part1 revision.ipynb\n",
      "25-11-2022  19:39             8,192 person.db\n",
      "23-06-2021  13:35            66,519 Pridiction Using Supervised ML.ipynb\n",
      "24-10-2022  18:23            12,891 Programming_Assingment1.docx\n",
      "11-11-2022  20:19    <DIR>          PycharmProjects\n",
      "05-11-2022  21:58             6,891 Python Basic Assignment 3.ipynb\n",
      "08-11-2022  20:09            12,206 Python Basic Assignment 4.ipynb\n",
      "10-11-2022  21:05             5,807 Python Basic Assignment 5.ipynb\n",
      "15-11-2022  02:10            10,370 Python Basic Assignment 6.ipynb\n",
      "16-11-2022  19:53             5,038 Python Basic Program Assignment 6.ipynb\n",
      "24-11-2022  17:23             5,372 Python Basic Program Assignment 7.ipynb\n",
      "07-11-2022  16:48            11,860 Python Basic Programming Assignment 3.ipynb\n",
      "11-11-2022  20:38             8,306 Python Basic Programming Assignment 4.ipynb\n",
      "14-11-2022  00:30             6,153 Python Basic Programming Assignment 5.ipynb\n",
      "03-11-2022  20:47            14,188 Python Basics Assignment 2.ipynb\n",
      "19-11-2022  01:20            18,535 Python Basics Assignment 7.ipynb\n",
      "24-11-2022  23:59            12,254 Python Basics Assignment 8.ipynb\n",
      "30-10-2022  22:54             8,022 Python Basics Assignment_1.ipynb\n",
      "01-11-2022  15:22             8,022 Python Basics Assignment1.ipynb\n",
      "24-10-2022  19:21             4,080 Python Basics Program Assignment1.ipynb\n",
      "27-10-2022  21:07             4,753 Python Basics Programming_Assignment_2.ipynb\n",
      "21-05-2021  04:09    <DIR>          Saved Games\n",
      "04-07-2021  01:33    <DIR>          seaborn-data\n",
      "12-05-2022  12:24    <DIR>          Searches\n",
      "23-11-2022  22:57                22 Setup.zip\n",
      "18-11-2022  21:00            80,157 SQL basic .ipynb\n",
      "19-11-2022  23:45           358,211 sql day 2 .ipynb\n",
      "25-11-2022  22:43            85,520 SQL lite, map, reduce, filter,zip revision.ipynb\n",
      "18-11-2022  19:21           118,377 SQL part 1 revision.ipynb\n",
      "25-11-2022  16:21           315,007 SQL part2 revision.ipynb\n",
      "25-11-2022  22:42            45,270 SQLLITE ,map ,reduce ,filter,zip.ipynb\n",
      "28-07-2021  16:17           341,881 Statistics with data science project.ipynb\n",
      "10-11-2022  01:52             1,807 test.log\n",
      "03-07-2021  00:56             6,182 Test.png\n",
      "08-11-2022  21:00                20 test.text\n",
      "12-11-2022  15:45                 0 test1.py\n",
      "13-11-2022  16:03                22 test1.txt\n",
      "12-11-2022  20:51                 0 test2.py\n",
      "13-11-2022  21:41                30 test2.tex\n",
      "12-11-2022  15:39                 7 test3.py\n",
      "12-11-2022  16:13                 0 test4.py\n",
      "09-11-2022  20:02                 0 test43\n",
      "24-06-2021  13:43            66,589 TSF GRIP Task 1 Imteyaz.ipynb\n",
      "23-06-2021  14:11            66,518 TSF GRIP Task 1 Imteyaz-Copy1.ipynb\n",
      "09-11-2022  19:26                22 tsst1.txt\n",
      "06-07-2021  01:55             2,219 Tutorial 10- Seaborn- Countplot(), Violinplot(), Boxplot()- Part2.ipynb\n",
      "03-07-2021  16:43           142,418 Tutorial 8- Matplotlib (Simple Visualization Library).ipynb\n",
      "06-07-2021  01:46           355,324 Tutorial 9- Seaborn Tutorial- Distplot, Joinplot, Pairplot Part 1.ipynb\n",
      "02-07-2021  19:54             5,906 Untitled.ipynb\n",
      "21-10-2022  00:41                 0 untitled.txt\n",
      "02-07-2021  22:10            14,709 Untitled1.ipynb\n",
      "04-11-2022  18:57            19,366 Untitled10.ipynb\n",
      "14-11-2022  23:35            12,197 Untitled11.ipynb\n",
      "06-11-2022  21:12            11,238 Untitled12.ipynb\n",
      "21-11-2022  01:34             3,746 Untitled13.ipynb\n",
      "22-11-2022  20:43           130,669 Untitled14.ipynb\n",
      "04-10-2022  11:20            14,811 Untitled2.ipynb\n",
      "04-10-2022  11:12               711 Untitled3.ipynb\n",
      "05-10-2022  21:35               576 Untitled4.ipynb\n",
      "14-10-2022  00:57             1,579 Untitled5.ipynb\n",
      "21-10-2022  23:29           172,211 Untitled6.ipynb\n",
      "26-10-2022  17:27            15,421 Untitled7.ipynb\n",
      "27-10-2022  00:43             1,329 Untitled8.ipynb\n",
      "27-10-2022  19:16             2,164 Untitled9.ipynb\n",
      "25-04-2022  08:56    <DIR>          Videos\n",
      "22-05-2021  02:02                 0 where\n",
      "24-11-2022  18:43         3,473,784 winrar-x64-611.exe\n",
      "25-11-2022  16:18             5,947 Working with Python MongoDB Part1 revision.ipynb\n",
      "             110 File(s)     57,619,999 bytes\n",
      "              31 Dir(s)  188,766,060,544 bytes free\n"
     ]
    }
   ],
   "source": [
    "ls"
   ]
  },
  {
   "cell_type": "code",
   "execution_count": 4,
   "id": "83e02c3b",
   "metadata": {},
   "outputs": [],
   "source": [
    "c=db.cursor()"
   ]
  },
  {
   "cell_type": "code",
   "execution_count": 5,
   "id": "1a3fe2df",
   "metadata": {},
   "outputs": [
    {
     "data": {
      "text/plain": [
       "<sqlite3.Cursor at 0x1ed3fe95810>"
      ]
     },
     "execution_count": 5,
     "metadata": {},
     "output_type": "execute_result"
    }
   ],
   "source": [
    "c.execute(\"create table fsds(name text, batchid int, marks real)\")"
   ]
  },
  {
   "cell_type": "code",
   "execution_count": 6,
   "id": "e11f00b1",
   "metadata": {},
   "outputs": [
    {
     "data": {
      "text/plain": [
       "<sqlite3.Cursor at 0x1ed3fe95810>"
      ]
     },
     "execution_count": 6,
     "metadata": {},
     "output_type": "execute_result"
    }
   ],
   "source": [
    "c.execute(\"insert into fsds values('sudh', 34535,454.67)\")"
   ]
  },
  {
   "cell_type": "code",
   "execution_count": 7,
   "id": "26411906",
   "metadata": {},
   "outputs": [
    {
     "data": {
      "text/plain": [
       "<sqlite3.Cursor at 0x1ed3fe95810>"
      ]
     },
     "execution_count": 7,
     "metadata": {},
     "output_type": "execute_result"
    }
   ],
   "source": [
    "c.execute(\"insert into fsds values('sudh', 34535,454.67)\")\n",
    "c.execute(\"insert into fsds values('sudh', 34535,454.67)\")\n",
    "c.execute(\"insert into fsds values('sudh', 34535,454.67)\")\n",
    "c.execute(\"insert into fsds values('sudh', 34535,454.67)\")\n",
    "c.execute(\"insert into fsds values('sudh', 34535,454.67)\")\n",
    "c.execute(\"insert into fsds values('sudh', 34535,454.67)\")\n",
    "c.execute(\"insert into fsds values('sudh', 34535,454.67)\")\n",
    "c.execute(\"insert into fsds values('sudh', 34535,454.67)\")"
   ]
  },
  {
   "cell_type": "code",
   "execution_count": 8,
   "id": "e0532127",
   "metadata": {},
   "outputs": [],
   "source": [
    "data = c.execute(\"select * from fsds\")"
   ]
  },
  {
   "cell_type": "code",
   "execution_count": 9,
   "id": "6d6812e9",
   "metadata": {},
   "outputs": [
    {
     "name": "stdout",
     "output_type": "stream",
     "text": [
      "('sudh', 34535, 454.67)\n",
      "('sudh', 34535, 454.67)\n",
      "('sudh', 34535, 454.67)\n",
      "('sudh', 34535, 454.67)\n",
      "('sudh', 34535, 454.67)\n",
      "('sudh', 34535, 454.67)\n",
      "('sudh', 34535, 454.67)\n",
      "('sudh', 34535, 454.67)\n",
      "('sudh', 34535, 454.67)\n"
     ]
    }
   ],
   "source": [
    "for i in data :\n",
    "    print(i)"
   ]
  },
  {
   "cell_type": "code",
   "execution_count": 10,
   "id": "5474155f",
   "metadata": {},
   "outputs": [],
   "source": [
    "db.commit()"
   ]
  },
  {
   "cell_type": "code",
   "execution_count": 11,
   "id": "1590672e",
   "metadata": {},
   "outputs": [],
   "source": [
    "db.close()"
   ]
  },
  {
   "cell_type": "code",
   "execution_count": 12,
   "id": "578e0246",
   "metadata": {},
   "outputs": [
    {
     "name": "stdout",
     "output_type": "stream",
     "text": [
      " Volume in drive C has no label.\n",
      " Volume Serial Number is 9CD5-FCE1\n",
      "\n",
      " Directory of C:\\Users\\mdimt\n",
      "\n",
      "14-11-2022  15:31            36,257  12th Nov Live Class Functions revision.ipynb\n",
      "25-11-2022  22:43    <DIR>          .\n",
      "25-11-2022  22:43    <DIR>          ..\n",
      "06-11-2022  21:59    <DIR>          .anaconda\n",
      "06-11-2022  23:06    <DIR>          .conda\n",
      "22-05-2021  01:35                25 .condarc\n",
      "22-05-2021  01:35    <DIR>          .continuum\n",
      "19-10-2022  20:09                53 .git-for-windows-updater\n",
      "01-07-2021  23:01    <DIR>          .idlerc\n",
      "25-11-2022  22:40    <DIR>          .ipynb_checkpoints\n",
      "22-05-2021  01:39    <DIR>          .ipython\n",
      "29-10-2022  16:59    <DIR>          .jupyter\n",
      "06-06-2021  02:13    <DIR>          .matplotlib\n",
      "26-10-2022  17:39    <DIR>          .spyder-py3\n",
      "07-10-2022  21:43    <DIR>          .vscode\n",
      "15-11-2022  22:42    <DIR>          __pycache__\n",
      "28-10-2022  22:49        23,553,184 1.Python Fundamentals and Advanced Python.zip\n",
      "14-11-2022  22:32            25,125 13th Nov Live Class Functions 4 revision.ipynb\n",
      "25-11-2022  18:44    <DIR>          19.3 MongoDB\n",
      "23-11-2022  20:02         4,407,102 19.3 MongoDB.7z\n",
      "31-10-2022  17:35            21,059 29th Oct Live Class Function Basic Revision.ipynb\n",
      "21-05-2021  04:09    <DIR>          3D Objects\n",
      "22-05-2021  01:14    <DIR>          anaconda3\n",
      "21-10-2022  00:42            10,061 Assignment_1.docx\n",
      "18-11-2022  17:27            51,867 car.data\n",
      "24-11-2022  16:37           628,633 carbon_nanotubes.csv\n",
      "19-11-2022  23:43            19,879 class assignment oops.ipynb\n",
      "21-05-2021  04:09    <DIR>          Contacts\n",
      "01-07-2021  23:11    <DIR>          Credit Card Risk Assessment\n",
      "20-10-2022  20:18            59,629 demo_002.ipynb\n",
      "26-10-2022  15:57            57,559 demo_003.ipynb\n",
      "20-10-2022  20:20            45,893 demo_2 live_classes_ineuron_revision.ipynb\n",
      "15-11-2022  22:42                 0 dict.log\n",
      "21-05-2021  04:18    <DIR>          Documents\n",
      "24-11-2022  23:59    <DIR>          Downloads\n",
      "19-11-2022  23:45            13,907 Exception Handling Class 2.ipynb\n",
      "08-11-2022  21:26             9,192 Exception Handling Class1 Part1.ipynb\n",
      "21-05-2021  04:09    <DIR>          Favorites\n",
      "03-11-2022  00:26            10,428 For Loop & While Loops Revision.ipynb\n",
      "03-11-2022  15:20            25,890 for loops while loop.ipynb\n",
      "14-10-2022  00:42            10,742 FSDS_bootcamp_assignment_002_Oct_01.ipynb\n",
      "28-10-2022  19:31             5,294 FSDS_bootcamp_assignment_004_Oct_09 (1).ipynb\n",
      "07-11-2022  17:43            31,508 Function and holiday task.ipynb\n",
      "06-11-2022  20:52            60,343 Function continued.ipynb\n",
      "04-11-2022  02:08            18,716 function part1.ipynb\n",
      "06-11-2022  00:28            62,066 function part2.ipynb\n",
      "08-11-2022  14:44             1,763 functions task 20 question.txt\n",
      "16-11-2022  23:44            11,903 glass.data\n",
      "09-11-2022  22:09            43,659 holiday 20 assignment.ipynb\n",
      "25-11-2022  22:43             8,192 ineuron.db\n",
      "09-11-2022  17:43            23,501 Iterator Generator File System.ipynb\n",
      "08-11-2022  02:20        21,685,761 iterator generator.ipynb\n",
      "01-07-2021  23:12    <DIR>          Jedi\n",
      "25-11-2022  19:04            12,288 jobdb.db\n",
      "30-06-2021  14:39                 0 jupyter\n",
      "12-05-2022  12:24    <DIR>          Links\n",
      "26-10-2022  15:42             9,919 live_3demo_classes_ineuron_revision.ipynb\n",
      "30-10-2022  00:07            16,593 live_classes_revision_29oct.ipynb\n",
      "15-11-2022  22:24             5,993 logging (1).ipynb\n",
      "10-11-2022  01:53             6,194 Logging class.ipynb\n",
      "23-10-2022  00:20    <DIR>          Microsoft\n",
      "19-11-2022  23:43            10,625 Module_Packages.ipynb\n",
      "24-11-2022  16:59            75,694 mongo db class1 revision.ipynb\n",
      "24-11-2022  20:39            57,341 mongodb class 1.ipynb\n",
      "28-05-2022  11:32    <DIR>          Music\n",
      "15-11-2022  22:55                 0 mydict.py\n",
      "06-11-2022  23:23           163,679 nbextensions.ipynb\n",
      "24-11-2022  17:09    <DIR>          OneDrive\n",
      "13-11-2022  22:07            39,946 oops 29th .ipynb\n",
      "15-11-2022  22:28            43,392 oops 30th.ipynb\n",
      "19-11-2022  23:45            41,465 oops class 1.ipynb\n",
      "13-11-2022  19:09            40,284 Oops class part2.ipynb\n",
      "15-11-2022  22:29            44,127 OOPs Concepts Polymorphism revision.ipynb\n",
      "19-11-2022  23:45            11,842 Oops part1 revision.ipynb\n",
      "25-11-2022  19:39             8,192 person.db\n",
      "23-06-2021  13:35            66,519 Pridiction Using Supervised ML.ipynb\n",
      "24-10-2022  18:23            12,891 Programming_Assingment1.docx\n",
      "11-11-2022  20:19    <DIR>          PycharmProjects\n",
      "05-11-2022  21:58             6,891 Python Basic Assignment 3.ipynb\n",
      "08-11-2022  20:09            12,206 Python Basic Assignment 4.ipynb\n",
      "10-11-2022  21:05             5,807 Python Basic Assignment 5.ipynb\n",
      "15-11-2022  02:10            10,370 Python Basic Assignment 6.ipynb\n",
      "16-11-2022  19:53             5,038 Python Basic Program Assignment 6.ipynb\n",
      "24-11-2022  17:23             5,372 Python Basic Program Assignment 7.ipynb\n",
      "07-11-2022  16:48            11,860 Python Basic Programming Assignment 3.ipynb\n",
      "11-11-2022  20:38             8,306 Python Basic Programming Assignment 4.ipynb\n",
      "14-11-2022  00:30             6,153 Python Basic Programming Assignment 5.ipynb\n",
      "03-11-2022  20:47            14,188 Python Basics Assignment 2.ipynb\n",
      "19-11-2022  01:20            18,535 Python Basics Assignment 7.ipynb\n",
      "24-11-2022  23:59            12,254 Python Basics Assignment 8.ipynb\n",
      "30-10-2022  22:54             8,022 Python Basics Assignment_1.ipynb\n",
      "01-11-2022  15:22             8,022 Python Basics Assignment1.ipynb\n",
      "24-10-2022  19:21             4,080 Python Basics Program Assignment1.ipynb\n",
      "27-10-2022  21:07             4,753 Python Basics Programming_Assignment_2.ipynb\n",
      "21-05-2021  04:09    <DIR>          Saved Games\n",
      "04-07-2021  01:33    <DIR>          seaborn-data\n",
      "12-05-2022  12:24    <DIR>          Searches\n",
      "23-11-2022  22:57                22 Setup.zip\n",
      "18-11-2022  21:00            80,157 SQL basic .ipynb\n",
      "19-11-2022  23:45           358,211 sql day 2 .ipynb\n",
      "25-11-2022  22:43            85,520 SQL lite, map, reduce, filter,zip revision.ipynb\n",
      "18-11-2022  19:21           118,377 SQL part 1 revision.ipynb\n",
      "25-11-2022  16:21           315,007 SQL part2 revision.ipynb\n",
      "25-11-2022  22:42            45,270 SQLLITE ,map ,reduce ,filter,zip.ipynb\n",
      "28-07-2021  16:17           341,881 Statistics with data science project.ipynb\n",
      "10-11-2022  01:52             1,807 test.log\n",
      "03-07-2021  00:56             6,182 Test.png\n",
      "08-11-2022  21:00                20 test.text\n",
      "12-11-2022  15:45                 0 test1.py\n",
      "13-11-2022  16:03                22 test1.txt\n",
      "12-11-2022  20:51                 0 test2.py\n",
      "13-11-2022  21:41                30 test2.tex\n",
      "12-11-2022  15:39                 7 test3.py\n",
      "12-11-2022  16:13                 0 test4.py\n",
      "09-11-2022  20:02                 0 test43\n",
      "24-06-2021  13:43            66,589 TSF GRIP Task 1 Imteyaz.ipynb\n",
      "23-06-2021  14:11            66,518 TSF GRIP Task 1 Imteyaz-Copy1.ipynb\n",
      "09-11-2022  19:26                22 tsst1.txt\n",
      "06-07-2021  01:55             2,219 Tutorial 10- Seaborn- Countplot(), Violinplot(), Boxplot()- Part2.ipynb\n",
      "03-07-2021  16:43           142,418 Tutorial 8- Matplotlib (Simple Visualization Library).ipynb\n",
      "06-07-2021  01:46           355,324 Tutorial 9- Seaborn Tutorial- Distplot, Joinplot, Pairplot Part 1.ipynb\n",
      "02-07-2021  19:54             5,906 Untitled.ipynb\n",
      "21-10-2022  00:41                 0 untitled.txt\n",
      "02-07-2021  22:10            14,709 Untitled1.ipynb\n",
      "04-11-2022  18:57            19,366 Untitled10.ipynb\n",
      "14-11-2022  23:35            12,197 Untitled11.ipynb\n",
      "06-11-2022  21:12            11,238 Untitled12.ipynb\n",
      "21-11-2022  01:34             3,746 Untitled13.ipynb\n",
      "22-11-2022  20:43           130,669 Untitled14.ipynb\n",
      "04-10-2022  11:20            14,811 Untitled2.ipynb\n",
      "04-10-2022  11:12               711 Untitled3.ipynb\n",
      "05-10-2022  21:35               576 Untitled4.ipynb\n",
      "14-10-2022  00:57             1,579 Untitled5.ipynb\n",
      "21-10-2022  23:29           172,211 Untitled6.ipynb\n",
      "26-10-2022  17:27            15,421 Untitled7.ipynb\n",
      "27-10-2022  00:43             1,329 Untitled8.ipynb\n",
      "27-10-2022  19:16             2,164 Untitled9.ipynb\n",
      "25-04-2022  08:56    <DIR>          Videos\n",
      "22-05-2021  02:02                 0 where\n",
      "24-11-2022  18:43         3,473,784 winrar-x64-611.exe\n",
      "25-11-2022  16:18             5,947 Working with Python MongoDB Part1 revision.ipynb\n",
      "             110 File(s)     57,619,999 bytes\n",
      "              31 Dir(s)  188,766,040,064 bytes free\n"
     ]
    }
   ],
   "source": [
    "ls"
   ]
  },
  {
   "cell_type": "code",
   "execution_count": 13,
   "id": "fc063e3d",
   "metadata": {},
   "outputs": [],
   "source": [
    "db=sqlite3.connect(\"ineuron.db\")"
   ]
  },
  {
   "cell_type": "code",
   "execution_count": 14,
   "id": "c72383b3",
   "metadata": {},
   "outputs": [],
   "source": [
    "c = db.cursor()"
   ]
  },
  {
   "cell_type": "code",
   "execution_count": 15,
   "id": "5de14221",
   "metadata": {},
   "outputs": [],
   "source": [
    "data = c.execute(\"select * from fsds where marks > 400\")"
   ]
  },
  {
   "cell_type": "code",
   "execution_count": 16,
   "id": "9ff1595c",
   "metadata": {},
   "outputs": [
    {
     "name": "stdout",
     "output_type": "stream",
     "text": [
      "('sudh', 34535, 454.67)\n",
      "('sudh', 34535, 454.67)\n",
      "('sudh', 34535, 454.67)\n",
      "('sudh', 34535, 454.67)\n",
      "('sudh', 34535, 454.67)\n",
      "('sudh', 34535, 454.67)\n",
      "('sudh', 34535, 454.67)\n",
      "('sudh', 34535, 454.67)\n",
      "('sudh', 34535, 454.67)\n"
     ]
    }
   ],
   "source": [
    "for i in data :\n",
    "    print(i)"
   ]
  },
  {
   "cell_type": "code",
   "execution_count": 17,
   "id": "fedfd3dc",
   "metadata": {},
   "outputs": [],
   "source": [
    "data = c.execute(\"select * from fsds where name = 'sudh'\")"
   ]
  },
  {
   "cell_type": "code",
   "execution_count": 18,
   "id": "f472c6ed",
   "metadata": {},
   "outputs": [
    {
     "name": "stdout",
     "output_type": "stream",
     "text": [
      "('sudh', 34535, 454.67)\n",
      "('sudh', 34535, 454.67)\n",
      "('sudh', 34535, 454.67)\n",
      "('sudh', 34535, 454.67)\n",
      "('sudh', 34535, 454.67)\n",
      "('sudh', 34535, 454.67)\n",
      "('sudh', 34535, 454.67)\n",
      "('sudh', 34535, 454.67)\n",
      "('sudh', 34535, 454.67)\n"
     ]
    }
   ],
   "source": [
    "for i in data :\n",
    "    print(i)"
   ]
  },
  {
   "cell_type": "code",
   "execution_count": 19,
   "id": "8a89e32c",
   "metadata": {},
   "outputs": [],
   "source": [
    "data = c.execute(\"select name, marks from fsds\")"
   ]
  },
  {
   "cell_type": "code",
   "execution_count": 20,
   "id": "e7cbe8e4",
   "metadata": {},
   "outputs": [
    {
     "name": "stdout",
     "output_type": "stream",
     "text": [
      "('sudh', 454.67)\n",
      "('sudh', 454.67)\n",
      "('sudh', 454.67)\n",
      "('sudh', 454.67)\n",
      "('sudh', 454.67)\n",
      "('sudh', 454.67)\n",
      "('sudh', 454.67)\n",
      "('sudh', 454.67)\n",
      "('sudh', 454.67)\n"
     ]
    }
   ],
   "source": [
    "for i in data :\n",
    "    print(i)"
   ]
  },
  {
   "cell_type": "code",
   "execution_count": 21,
   "id": "c2686e0f",
   "metadata": {},
   "outputs": [],
   "source": [
    "data=c.execute(\"select name, marks from fsds order by marks\")"
   ]
  },
  {
   "cell_type": "code",
   "execution_count": 22,
   "id": "c960c718",
   "metadata": {},
   "outputs": [
    {
     "name": "stdout",
     "output_type": "stream",
     "text": [
      "('sudh', 454.67)\n",
      "('sudh', 454.67)\n",
      "('sudh', 454.67)\n",
      "('sudh', 454.67)\n",
      "('sudh', 454.67)\n",
      "('sudh', 454.67)\n",
      "('sudh', 454.67)\n",
      "('sudh', 454.67)\n",
      "('sudh', 454.67)\n"
     ]
    }
   ],
   "source": [
    "for i in data:\n",
    "    print(i)"
   ]
  },
  {
   "cell_type": "code",
   "execution_count": 23,
   "id": "e1cca316",
   "metadata": {},
   "outputs": [],
   "source": [
    "db.close()"
   ]
  },
  {
   "cell_type": "code",
   "execution_count": 24,
   "id": "2743e334",
   "metadata": {},
   "outputs": [],
   "source": [
    "db = sqlite3.connect(\"person.db\")"
   ]
  },
  {
   "cell_type": "code",
   "execution_count": 25,
   "id": "36eb50c4",
   "metadata": {},
   "outputs": [],
   "source": [
    "c = db.cursor()"
   ]
  },
  {
   "cell_type": "code",
   "execution_count": 26,
   "id": "c7106ab9",
   "metadata": {},
   "outputs": [
    {
     "ename": "OperationalError",
     "evalue": "table person_table already exists",
     "output_type": "error",
     "traceback": [
      "\u001b[1;31m---------------------------------------------------------------------------\u001b[0m",
      "\u001b[1;31mOperationalError\u001b[0m                          Traceback (most recent call last)",
      "\u001b[1;32m<ipython-input-26-f6cce057dedc>\u001b[0m in \u001b[0;36m<module>\u001b[1;34m\u001b[0m\n\u001b[1;32m----> 1\u001b[1;33m \u001b[0mc\u001b[0m\u001b[1;33m.\u001b[0m\u001b[0mexecute\u001b[0m\u001b[1;33m(\u001b[0m\u001b[1;34m\"create table person_table(name text, emailid text, age int, salary real)\"\u001b[0m\u001b[1;33m)\u001b[0m\u001b[1;33m\u001b[0m\u001b[1;33m\u001b[0m\u001b[0m\n\u001b[0m",
      "\u001b[1;31mOperationalError\u001b[0m: table person_table already exists"
     ]
    }
   ],
   "source": [
    "c.execute(\"create table person_table(name text, emailid text, age int, salary real)\")"
   ]
  },
  {
   "cell_type": "code",
   "execution_count": 27,
   "id": "b6e8c693",
   "metadata": {},
   "outputs": [
    {
     "data": {
      "text/plain": [
       "<sqlite3.Cursor at 0x1ed3fe95570>"
      ]
     },
     "execution_count": 27,
     "metadata": {},
     "output_type": "execute_result"
    }
   ],
   "source": [
    "c.execute(\"insert into person_table values('sudh', 'sudhanshu@ineuron.ai', 234,23424)\")\n",
    "c.execute(\"insert into person_table values('parshant', 'parshant@ineuron.ai', 345, 23543543)\")\n",
    "c.execute(\"insert into person_table values('krish', 'krish@ineuron.ai', 2345, 34534564)\")\n",
    "c.execute(\"insert into person_table values('sunny', 'sunny@ineuron.ai', 2354, 7789797)\")\n",
    " \n"
   ]
  },
  {
   "cell_type": "code",
   "execution_count": 28,
   "id": "3e96d2de",
   "metadata": {},
   "outputs": [],
   "source": [
    "data = c.execute(\"select * from person_table\")"
   ]
  },
  {
   "cell_type": "code",
   "execution_count": 29,
   "id": "9602d039",
   "metadata": {},
   "outputs": [
    {
     "name": "stdout",
     "output_type": "stream",
     "text": [
      "('sudh', 'sudhanshu@ineuron.ai', 234, 23424.0)\n",
      "('sudh', 'sudhanshu@ineuron.ai', 234, 23424.0)\n",
      "('parshant', 'parshant@ineuron.ai', 345, 23543543.0)\n",
      "('krish', 'krish@ineuron.ai', 2345, 34534564.0)\n",
      "('sunny', 'sunny@ineuron.ai', 2354, 7789797.0)\n",
      "('sudh', 'sudhanshu@ineuron.ai', 234, 23424.0)\n",
      "('parshant', 'parshant@ineuron.ai', 345, 23543543.0)\n",
      "('krish', 'krish@ineuron.ai', 2345, 34534564.0)\n",
      "('sunny', 'sunny@ineuron.ai', 2354, 7789797.0)\n",
      "('sudh', 'sudhanshu@ineuron.ai', 234, 23424.0)\n",
      "('parshant', 'parshant@ineuron.ai', 345, 23543543.0)\n",
      "('krish', 'krish@ineuron.ai', 2345, 34534564.0)\n",
      "('sunny', 'sunny@ineuron.ai', 2354, 7789797.0)\n",
      "('sudh', 'sudhanshu@ineuron.ai', 234, 23424.0)\n",
      "('parshant', 'parshant@ineuron.ai', 345, 23543543.0)\n",
      "('krish', 'krish@ineuron.ai', 2345, 34534564.0)\n",
      "('sunny', 'sunny@ineuron.ai', 2354, 7789797.0)\n"
     ]
    }
   ],
   "source": [
    "for i in data :\n",
    "    print(i)"
   ]
  },
  {
   "cell_type": "code",
   "execution_count": 30,
   "id": "cabb6f0d",
   "metadata": {},
   "outputs": [],
   "source": [
    "db.commit()"
   ]
  },
  {
   "cell_type": "code",
   "execution_count": 31,
   "id": "d6cc4f07",
   "metadata": {},
   "outputs": [],
   "source": [
    "db.close()"
   ]
  },
  {
   "cell_type": "code",
   "execution_count": 32,
   "id": "d65a541d",
   "metadata": {},
   "outputs": [
    {
     "name": "stdout",
     "output_type": "stream",
     "text": [
      " Volume in drive C has no label.\n",
      " Volume Serial Number is 9CD5-FCE1\n",
      "\n",
      " Directory of C:\\Users\\mdimt\n",
      "\n",
      "14-11-2022  15:31            36,257  12th Nov Live Class Functions revision.ipynb\n",
      "25-11-2022  22:44    <DIR>          .\n",
      "25-11-2022  22:44    <DIR>          ..\n",
      "06-11-2022  21:59    <DIR>          .anaconda\n",
      "06-11-2022  23:06    <DIR>          .conda\n",
      "22-05-2021  01:35                25 .condarc\n",
      "22-05-2021  01:35    <DIR>          .continuum\n",
      "19-10-2022  20:09                53 .git-for-windows-updater\n",
      "01-07-2021  23:01    <DIR>          .idlerc\n",
      "25-11-2022  22:40    <DIR>          .ipynb_checkpoints\n",
      "22-05-2021  01:39    <DIR>          .ipython\n",
      "29-10-2022  16:59    <DIR>          .jupyter\n",
      "06-06-2021  02:13    <DIR>          .matplotlib\n",
      "26-10-2022  17:39    <DIR>          .spyder-py3\n",
      "07-10-2022  21:43    <DIR>          .vscode\n",
      "15-11-2022  22:42    <DIR>          __pycache__\n",
      "28-10-2022  22:49        23,553,184 1.Python Fundamentals and Advanced Python.zip\n",
      "14-11-2022  22:32            25,125 13th Nov Live Class Functions 4 revision.ipynb\n",
      "25-11-2022  18:44    <DIR>          19.3 MongoDB\n",
      "23-11-2022  20:02         4,407,102 19.3 MongoDB.7z\n",
      "31-10-2022  17:35            21,059 29th Oct Live Class Function Basic Revision.ipynb\n",
      "21-05-2021  04:09    <DIR>          3D Objects\n",
      "22-05-2021  01:14    <DIR>          anaconda3\n",
      "21-10-2022  00:42            10,061 Assignment_1.docx\n",
      "18-11-2022  17:27            51,867 car.data\n",
      "24-11-2022  16:37           628,633 carbon_nanotubes.csv\n",
      "19-11-2022  23:43            19,879 class assignment oops.ipynb\n",
      "21-05-2021  04:09    <DIR>          Contacts\n",
      "01-07-2021  23:11    <DIR>          Credit Card Risk Assessment\n",
      "20-10-2022  20:18            59,629 demo_002.ipynb\n",
      "26-10-2022  15:57            57,559 demo_003.ipynb\n",
      "20-10-2022  20:20            45,893 demo_2 live_classes_ineuron_revision.ipynb\n",
      "15-11-2022  22:42                 0 dict.log\n",
      "21-05-2021  04:18    <DIR>          Documents\n",
      "24-11-2022  23:59    <DIR>          Downloads\n",
      "19-11-2022  23:45            13,907 Exception Handling Class 2.ipynb\n",
      "08-11-2022  21:26             9,192 Exception Handling Class1 Part1.ipynb\n",
      "21-05-2021  04:09    <DIR>          Favorites\n",
      "03-11-2022  00:26            10,428 For Loop & While Loops Revision.ipynb\n",
      "03-11-2022  15:20            25,890 for loops while loop.ipynb\n",
      "14-10-2022  00:42            10,742 FSDS_bootcamp_assignment_002_Oct_01.ipynb\n",
      "28-10-2022  19:31             5,294 FSDS_bootcamp_assignment_004_Oct_09 (1).ipynb\n",
      "07-11-2022  17:43            31,508 Function and holiday task.ipynb\n",
      "06-11-2022  20:52            60,343 Function continued.ipynb\n",
      "04-11-2022  02:08            18,716 function part1.ipynb\n",
      "06-11-2022  00:28            62,066 function part2.ipynb\n",
      "08-11-2022  14:44             1,763 functions task 20 question.txt\n",
      "16-11-2022  23:44            11,903 glass.data\n",
      "09-11-2022  22:09            43,659 holiday 20 assignment.ipynb\n",
      "25-11-2022  22:43             8,192 ineuron.db\n",
      "09-11-2022  17:43            23,501 Iterator Generator File System.ipynb\n",
      "08-11-2022  02:20        21,685,761 iterator generator.ipynb\n",
      "01-07-2021  23:12    <DIR>          Jedi\n",
      "25-11-2022  19:04            12,288 jobdb.db\n",
      "30-06-2021  14:39                 0 jupyter\n",
      "12-05-2022  12:24    <DIR>          Links\n",
      "26-10-2022  15:42             9,919 live_3demo_classes_ineuron_revision.ipynb\n",
      "30-10-2022  00:07            16,593 live_classes_revision_29oct.ipynb\n",
      "15-11-2022  22:24             5,993 logging (1).ipynb\n",
      "10-11-2022  01:53             6,194 Logging class.ipynb\n",
      "23-10-2022  00:20    <DIR>          Microsoft\n",
      "19-11-2022  23:43            10,625 Module_Packages.ipynb\n",
      "24-11-2022  16:59            75,694 mongo db class1 revision.ipynb\n",
      "24-11-2022  20:39            57,341 mongodb class 1.ipynb\n",
      "28-05-2022  11:32    <DIR>          Music\n",
      "15-11-2022  22:55                 0 mydict.py\n",
      "06-11-2022  23:23           163,679 nbextensions.ipynb\n",
      "24-11-2022  17:09    <DIR>          OneDrive\n",
      "13-11-2022  22:07            39,946 oops 29th .ipynb\n",
      "15-11-2022  22:28            43,392 oops 30th.ipynb\n",
      "19-11-2022  23:45            41,465 oops class 1.ipynb\n",
      "13-11-2022  19:09            40,284 Oops class part2.ipynb\n",
      "15-11-2022  22:29            44,127 OOPs Concepts Polymorphism revision.ipynb\n",
      "19-11-2022  23:45            11,842 Oops part1 revision.ipynb\n",
      "25-11-2022  22:44             8,192 person.db\n",
      "23-06-2021  13:35            66,519 Pridiction Using Supervised ML.ipynb\n",
      "24-10-2022  18:23            12,891 Programming_Assingment1.docx\n",
      "11-11-2022  20:19    <DIR>          PycharmProjects\n",
      "05-11-2022  21:58             6,891 Python Basic Assignment 3.ipynb\n",
      "08-11-2022  20:09            12,206 Python Basic Assignment 4.ipynb\n",
      "10-11-2022  21:05             5,807 Python Basic Assignment 5.ipynb\n",
      "15-11-2022  02:10            10,370 Python Basic Assignment 6.ipynb\n",
      "16-11-2022  19:53             5,038 Python Basic Program Assignment 6.ipynb\n",
      "24-11-2022  17:23             5,372 Python Basic Program Assignment 7.ipynb\n",
      "07-11-2022  16:48            11,860 Python Basic Programming Assignment 3.ipynb\n",
      "11-11-2022  20:38             8,306 Python Basic Programming Assignment 4.ipynb\n",
      "14-11-2022  00:30             6,153 Python Basic Programming Assignment 5.ipynb\n",
      "03-11-2022  20:47            14,188 Python Basics Assignment 2.ipynb\n",
      "19-11-2022  01:20            18,535 Python Basics Assignment 7.ipynb\n",
      "24-11-2022  23:59            12,254 Python Basics Assignment 8.ipynb\n",
      "30-10-2022  22:54             8,022 Python Basics Assignment_1.ipynb\n",
      "01-11-2022  15:22             8,022 Python Basics Assignment1.ipynb\n",
      "24-10-2022  19:21             4,080 Python Basics Program Assignment1.ipynb\n",
      "27-10-2022  21:07             4,753 Python Basics Programming_Assignment_2.ipynb\n",
      "21-05-2021  04:09    <DIR>          Saved Games\n",
      "04-07-2021  01:33    <DIR>          seaborn-data\n",
      "12-05-2022  12:24    <DIR>          Searches\n",
      "23-11-2022  22:57                22 Setup.zip\n",
      "18-11-2022  21:00            80,157 SQL basic .ipynb\n",
      "19-11-2022  23:45           358,211 sql day 2 .ipynb\n",
      "25-11-2022  22:43            85,520 SQL lite, map, reduce, filter,zip revision.ipynb\n",
      "18-11-2022  19:21           118,377 SQL part 1 revision.ipynb\n",
      "25-11-2022  16:21           315,007 SQL part2 revision.ipynb\n",
      "25-11-2022  22:42            45,270 SQLLITE ,map ,reduce ,filter,zip.ipynb\n",
      "28-07-2021  16:17           341,881 Statistics with data science project.ipynb\n",
      "10-11-2022  01:52             1,807 test.log\n",
      "03-07-2021  00:56             6,182 Test.png\n",
      "08-11-2022  21:00                20 test.text\n",
      "12-11-2022  15:45                 0 test1.py\n",
      "13-11-2022  16:03                22 test1.txt\n",
      "12-11-2022  20:51                 0 test2.py\n",
      "13-11-2022  21:41                30 test2.tex\n",
      "12-11-2022  15:39                 7 test3.py\n",
      "12-11-2022  16:13                 0 test4.py\n",
      "09-11-2022  20:02                 0 test43\n",
      "24-06-2021  13:43            66,589 TSF GRIP Task 1 Imteyaz.ipynb\n",
      "23-06-2021  14:11            66,518 TSF GRIP Task 1 Imteyaz-Copy1.ipynb\n",
      "09-11-2022  19:26                22 tsst1.txt\n",
      "06-07-2021  01:55             2,219 Tutorial 10- Seaborn- Countplot(), Violinplot(), Boxplot()- Part2.ipynb\n",
      "03-07-2021  16:43           142,418 Tutorial 8- Matplotlib (Simple Visualization Library).ipynb\n",
      "06-07-2021  01:46           355,324 Tutorial 9- Seaborn Tutorial- Distplot, Joinplot, Pairplot Part 1.ipynb\n",
      "02-07-2021  19:54             5,906 Untitled.ipynb\n",
      "21-10-2022  00:41                 0 untitled.txt\n",
      "02-07-2021  22:10            14,709 Untitled1.ipynb\n",
      "04-11-2022  18:57            19,366 Untitled10.ipynb\n",
      "14-11-2022  23:35            12,197 Untitled11.ipynb\n",
      "06-11-2022  21:12            11,238 Untitled12.ipynb\n",
      "21-11-2022  01:34             3,746 Untitled13.ipynb\n",
      "22-11-2022  20:43           130,669 Untitled14.ipynb\n",
      "04-10-2022  11:20            14,811 Untitled2.ipynb\n",
      "04-10-2022  11:12               711 Untitled3.ipynb\n",
      "05-10-2022  21:35               576 Untitled4.ipynb\n",
      "14-10-2022  00:57             1,579 Untitled5.ipynb\n",
      "21-10-2022  23:29           172,211 Untitled6.ipynb\n",
      "26-10-2022  17:27            15,421 Untitled7.ipynb\n",
      "27-10-2022  00:43             1,329 Untitled8.ipynb\n",
      "27-10-2022  19:16             2,164 Untitled9.ipynb\n",
      "25-04-2022  08:56    <DIR>          Videos\n",
      "22-05-2021  02:02                 0 where\n",
      "24-11-2022  18:43         3,473,784 winrar-x64-611.exe\n",
      "25-11-2022  16:18             5,947 Working with Python MongoDB Part1 revision.ipynb\n",
      "             110 File(s)     57,619,999 bytes\n",
      "              31 Dir(s)  188,766,040,064 bytes free\n"
     ]
    }
   ],
   "source": [
    "ls"
   ]
  },
  {
   "cell_type": "code",
   "execution_count": 33,
   "id": "fb42f09b",
   "metadata": {},
   "outputs": [],
   "source": [
    "db = sqlite3.connect('ineuron.db')"
   ]
  },
  {
   "cell_type": "code",
   "execution_count": 34,
   "id": "137b67e5",
   "metadata": {},
   "outputs": [],
   "source": [
    "c =db.cursor()"
   ]
  },
  {
   "cell_type": "code",
   "execution_count": 35,
   "id": "cad57ed4",
   "metadata": {},
   "outputs": [
    {
     "data": {
      "text/plain": [
       "<sqlite3.Cursor at 0x1ed3feb2260>"
      ]
     },
     "execution_count": 35,
     "metadata": {},
     "output_type": "execute_result"
    }
   ],
   "source": [
    "c.execute('drop table fsds')"
   ]
  },
  {
   "cell_type": "code",
   "execution_count": 36,
   "id": "62c6c58e",
   "metadata": {},
   "outputs": [
    {
     "ename": "OperationalError",
     "evalue": "no such table: fsds",
     "output_type": "error",
     "traceback": [
      "\u001b[1;31m---------------------------------------------------------------------------\u001b[0m",
      "\u001b[1;31mOperationalError\u001b[0m                          Traceback (most recent call last)",
      "\u001b[1;32m<ipython-input-36-b75bf689a57c>\u001b[0m in \u001b[0;36m<module>\u001b[1;34m\u001b[0m\n\u001b[1;32m----> 1\u001b[1;33m \u001b[0mc\u001b[0m\u001b[1;33m.\u001b[0m\u001b[0mexecute\u001b[0m\u001b[1;33m(\u001b[0m\u001b[1;34m'select * from fsds'\u001b[0m\u001b[1;33m)\u001b[0m\u001b[1;33m\u001b[0m\u001b[1;33m\u001b[0m\u001b[0m\n\u001b[0m",
      "\u001b[1;31mOperationalError\u001b[0m: no such table: fsds"
     ]
    }
   ],
   "source": [
    "c.execute('select * from fsds')"
   ]
  },
  {
   "cell_type": "code",
   "execution_count": 37,
   "id": "95785859",
   "metadata": {},
   "outputs": [
    {
     "name": "stdout",
     "output_type": "stream",
     "text": [
      " Volume in drive C has no label.\n",
      " Volume Serial Number is 9CD5-FCE1\n",
      "\n",
      " Directory of C:\\Users\\mdimt\n",
      "\n",
      "14-11-2022  15:31            36,257  12th Nov Live Class Functions revision.ipynb\n",
      "25-11-2022  22:44    <DIR>          .\n",
      "25-11-2022  22:44    <DIR>          ..\n",
      "06-11-2022  21:59    <DIR>          .anaconda\n",
      "06-11-2022  23:06    <DIR>          .conda\n",
      "22-05-2021  01:35                25 .condarc\n",
      "22-05-2021  01:35    <DIR>          .continuum\n",
      "19-10-2022  20:09                53 .git-for-windows-updater\n",
      "01-07-2021  23:01    <DIR>          .idlerc\n",
      "25-11-2022  22:40    <DIR>          .ipynb_checkpoints\n",
      "22-05-2021  01:39    <DIR>          .ipython\n",
      "29-10-2022  16:59    <DIR>          .jupyter\n",
      "06-06-2021  02:13    <DIR>          .matplotlib\n",
      "26-10-2022  17:39    <DIR>          .spyder-py3\n",
      "07-10-2022  21:43    <DIR>          .vscode\n",
      "15-11-2022  22:42    <DIR>          __pycache__\n",
      "28-10-2022  22:49        23,553,184 1.Python Fundamentals and Advanced Python.zip\n",
      "14-11-2022  22:32            25,125 13th Nov Live Class Functions 4 revision.ipynb\n",
      "25-11-2022  18:44    <DIR>          19.3 MongoDB\n",
      "23-11-2022  20:02         4,407,102 19.3 MongoDB.7z\n",
      "31-10-2022  17:35            21,059 29th Oct Live Class Function Basic Revision.ipynb\n",
      "21-05-2021  04:09    <DIR>          3D Objects\n",
      "22-05-2021  01:14    <DIR>          anaconda3\n",
      "21-10-2022  00:42            10,061 Assignment_1.docx\n",
      "18-11-2022  17:27            51,867 car.data\n",
      "24-11-2022  16:37           628,633 carbon_nanotubes.csv\n",
      "19-11-2022  23:43            19,879 class assignment oops.ipynb\n",
      "21-05-2021  04:09    <DIR>          Contacts\n",
      "01-07-2021  23:11    <DIR>          Credit Card Risk Assessment\n",
      "20-10-2022  20:18            59,629 demo_002.ipynb\n",
      "26-10-2022  15:57            57,559 demo_003.ipynb\n",
      "20-10-2022  20:20            45,893 demo_2 live_classes_ineuron_revision.ipynb\n",
      "15-11-2022  22:42                 0 dict.log\n",
      "21-05-2021  04:18    <DIR>          Documents\n",
      "24-11-2022  23:59    <DIR>          Downloads\n",
      "19-11-2022  23:45            13,907 Exception Handling Class 2.ipynb\n",
      "08-11-2022  21:26             9,192 Exception Handling Class1 Part1.ipynb\n",
      "21-05-2021  04:09    <DIR>          Favorites\n",
      "03-11-2022  00:26            10,428 For Loop & While Loops Revision.ipynb\n",
      "03-11-2022  15:20            25,890 for loops while loop.ipynb\n",
      "14-10-2022  00:42            10,742 FSDS_bootcamp_assignment_002_Oct_01.ipynb\n",
      "28-10-2022  19:31             5,294 FSDS_bootcamp_assignment_004_Oct_09 (1).ipynb\n",
      "07-11-2022  17:43            31,508 Function and holiday task.ipynb\n",
      "06-11-2022  20:52            60,343 Function continued.ipynb\n",
      "04-11-2022  02:08            18,716 function part1.ipynb\n",
      "06-11-2022  00:28            62,066 function part2.ipynb\n",
      "08-11-2022  14:44             1,763 functions task 20 question.txt\n",
      "16-11-2022  23:44            11,903 glass.data\n",
      "09-11-2022  22:09            43,659 holiday 20 assignment.ipynb\n",
      "25-11-2022  22:44             8,192 ineuron.db\n",
      "09-11-2022  17:43            23,501 Iterator Generator File System.ipynb\n",
      "08-11-2022  02:20        21,685,761 iterator generator.ipynb\n",
      "01-07-2021  23:12    <DIR>          Jedi\n",
      "25-11-2022  19:04            12,288 jobdb.db\n",
      "30-06-2021  14:39                 0 jupyter\n",
      "12-05-2022  12:24    <DIR>          Links\n",
      "26-10-2022  15:42             9,919 live_3demo_classes_ineuron_revision.ipynb\n",
      "30-10-2022  00:07            16,593 live_classes_revision_29oct.ipynb\n",
      "15-11-2022  22:24             5,993 logging (1).ipynb\n",
      "10-11-2022  01:53             6,194 Logging class.ipynb\n",
      "23-10-2022  00:20    <DIR>          Microsoft\n",
      "19-11-2022  23:43            10,625 Module_Packages.ipynb\n",
      "24-11-2022  16:59            75,694 mongo db class1 revision.ipynb\n",
      "24-11-2022  20:39            57,341 mongodb class 1.ipynb\n",
      "28-05-2022  11:32    <DIR>          Music\n",
      "15-11-2022  22:55                 0 mydict.py\n",
      "06-11-2022  23:23           163,679 nbextensions.ipynb\n",
      "24-11-2022  17:09    <DIR>          OneDrive\n",
      "13-11-2022  22:07            39,946 oops 29th .ipynb\n",
      "15-11-2022  22:28            43,392 oops 30th.ipynb\n",
      "19-11-2022  23:45            41,465 oops class 1.ipynb\n",
      "13-11-2022  19:09            40,284 Oops class part2.ipynb\n",
      "15-11-2022  22:29            44,127 OOPs Concepts Polymorphism revision.ipynb\n",
      "19-11-2022  23:45            11,842 Oops part1 revision.ipynb\n",
      "25-11-2022  22:44             8,192 person.db\n",
      "23-06-2021  13:35            66,519 Pridiction Using Supervised ML.ipynb\n",
      "24-10-2022  18:23            12,891 Programming_Assingment1.docx\n",
      "11-11-2022  20:19    <DIR>          PycharmProjects\n",
      "05-11-2022  21:58             6,891 Python Basic Assignment 3.ipynb\n",
      "08-11-2022  20:09            12,206 Python Basic Assignment 4.ipynb\n",
      "10-11-2022  21:05             5,807 Python Basic Assignment 5.ipynb\n",
      "15-11-2022  02:10            10,370 Python Basic Assignment 6.ipynb\n",
      "16-11-2022  19:53             5,038 Python Basic Program Assignment 6.ipynb\n",
      "24-11-2022  17:23             5,372 Python Basic Program Assignment 7.ipynb\n",
      "07-11-2022  16:48            11,860 Python Basic Programming Assignment 3.ipynb\n",
      "11-11-2022  20:38             8,306 Python Basic Programming Assignment 4.ipynb\n",
      "14-11-2022  00:30             6,153 Python Basic Programming Assignment 5.ipynb\n",
      "03-11-2022  20:47            14,188 Python Basics Assignment 2.ipynb\n",
      "19-11-2022  01:20            18,535 Python Basics Assignment 7.ipynb\n",
      "24-11-2022  23:59            12,254 Python Basics Assignment 8.ipynb\n",
      "30-10-2022  22:54             8,022 Python Basics Assignment_1.ipynb\n",
      "01-11-2022  15:22             8,022 Python Basics Assignment1.ipynb\n",
      "24-10-2022  19:21             4,080 Python Basics Program Assignment1.ipynb\n",
      "27-10-2022  21:07             4,753 Python Basics Programming_Assignment_2.ipynb\n",
      "21-05-2021  04:09    <DIR>          Saved Games\n",
      "04-07-2021  01:33    <DIR>          seaborn-data\n",
      "12-05-2022  12:24    <DIR>          Searches\n",
      "23-11-2022  22:57                22 Setup.zip\n",
      "18-11-2022  21:00            80,157 SQL basic .ipynb\n",
      "19-11-2022  23:45           358,211 sql day 2 .ipynb\n",
      "25-11-2022  22:43            85,520 SQL lite, map, reduce, filter,zip revision.ipynb\n",
      "18-11-2022  19:21           118,377 SQL part 1 revision.ipynb\n",
      "25-11-2022  16:21           315,007 SQL part2 revision.ipynb\n",
      "25-11-2022  22:42            45,270 SQLLITE ,map ,reduce ,filter,zip.ipynb\n",
      "28-07-2021  16:17           341,881 Statistics with data science project.ipynb\n",
      "10-11-2022  01:52             1,807 test.log\n",
      "03-07-2021  00:56             6,182 Test.png\n",
      "08-11-2022  21:00                20 test.text\n",
      "12-11-2022  15:45                 0 test1.py\n",
      "13-11-2022  16:03                22 test1.txt\n",
      "12-11-2022  20:51                 0 test2.py\n",
      "13-11-2022  21:41                30 test2.tex\n",
      "12-11-2022  15:39                 7 test3.py\n",
      "12-11-2022  16:13                 0 test4.py\n",
      "09-11-2022  20:02                 0 test43\n",
      "24-06-2021  13:43            66,589 TSF GRIP Task 1 Imteyaz.ipynb\n",
      "23-06-2021  14:11            66,518 TSF GRIP Task 1 Imteyaz-Copy1.ipynb\n",
      "09-11-2022  19:26                22 tsst1.txt\n",
      "06-07-2021  01:55             2,219 Tutorial 10- Seaborn- Countplot(), Violinplot(), Boxplot()- Part2.ipynb\n",
      "03-07-2021  16:43           142,418 Tutorial 8- Matplotlib (Simple Visualization Library).ipynb\n",
      "06-07-2021  01:46           355,324 Tutorial 9- Seaborn Tutorial- Distplot, Joinplot, Pairplot Part 1.ipynb\n",
      "02-07-2021  19:54             5,906 Untitled.ipynb\n",
      "21-10-2022  00:41                 0 untitled.txt\n",
      "02-07-2021  22:10            14,709 Untitled1.ipynb\n",
      "04-11-2022  18:57            19,366 Untitled10.ipynb\n",
      "14-11-2022  23:35            12,197 Untitled11.ipynb\n",
      "06-11-2022  21:12            11,238 Untitled12.ipynb\n",
      "21-11-2022  01:34             3,746 Untitled13.ipynb\n",
      "22-11-2022  20:43           130,669 Untitled14.ipynb\n",
      "04-10-2022  11:20            14,811 Untitled2.ipynb\n",
      "04-10-2022  11:12               711 Untitled3.ipynb\n",
      "05-10-2022  21:35               576 Untitled4.ipynb\n",
      "14-10-2022  00:57             1,579 Untitled5.ipynb\n",
      "21-10-2022  23:29           172,211 Untitled6.ipynb\n",
      "26-10-2022  17:27            15,421 Untitled7.ipynb\n",
      "27-10-2022  00:43             1,329 Untitled8.ipynb\n",
      "27-10-2022  19:16             2,164 Untitled9.ipynb\n",
      "25-04-2022  08:56    <DIR>          Videos\n",
      "22-05-2021  02:02                 0 where\n",
      "24-11-2022  18:43         3,473,784 winrar-x64-611.exe\n",
      "25-11-2022  16:18             5,947 Working with Python MongoDB Part1 revision.ipynb\n",
      "             110 File(s)     57,619,999 bytes\n",
      "              31 Dir(s)  188,766,040,064 bytes free\n"
     ]
    }
   ],
   "source": [
    "ls"
   ]
  },
  {
   "cell_type": "code",
   "execution_count": 38,
   "id": "a2e9a6b4",
   "metadata": {},
   "outputs": [],
   "source": [
    "db.close()"
   ]
  },
  {
   "cell_type": "code",
   "execution_count": 39,
   "id": "58b70f30",
   "metadata": {},
   "outputs": [],
   "source": [
    "db = sqlite3.connect('person.db')"
   ]
  },
  {
   "cell_type": "code",
   "execution_count": 40,
   "id": "b66b2caa",
   "metadata": {},
   "outputs": [],
   "source": [
    "c = db.cursor()"
   ]
  },
  {
   "cell_type": "code",
   "execution_count": 41,
   "id": "689351e3",
   "metadata": {},
   "outputs": [],
   "source": [
    "data = c.execute('select * from person_table limit 2')"
   ]
  },
  {
   "cell_type": "code",
   "execution_count": 42,
   "id": "7e0519f8",
   "metadata": {},
   "outputs": [
    {
     "name": "stdout",
     "output_type": "stream",
     "text": [
      "('sudh', 'sudhanshu@ineuron.ai', 234, 23424.0)\n",
      "('sudh', 'sudhanshu@ineuron.ai', 234, 23424.0)\n"
     ]
    }
   ],
   "source": [
    "for i in data :\n",
    "    print(i)"
   ]
  },
  {
   "cell_type": "code",
   "execution_count": 43,
   "id": "bfffceb3",
   "metadata": {},
   "outputs": [],
   "source": [
    "db.close()"
   ]
  },
  {
   "cell_type": "code",
   "execution_count": 44,
   "id": "c9756ea0",
   "metadata": {},
   "outputs": [],
   "source": [
    "db = sqlite3.connect('jobdb.db')"
   ]
  },
  {
   "cell_type": "code",
   "execution_count": 45,
   "id": "c259a9a5",
   "metadata": {},
   "outputs": [],
   "source": [
    "c = db.cursor()"
   ]
  },
  {
   "cell_type": "code",
   "execution_count": 46,
   "id": "03a2ef27",
   "metadata": {},
   "outputs": [
    {
     "ename": "OperationalError",
     "evalue": "table student already exists",
     "output_type": "error",
     "traceback": [
      "\u001b[1;31m---------------------------------------------------------------------------\u001b[0m",
      "\u001b[1;31mOperationalError\u001b[0m                          Traceback (most recent call last)",
      "\u001b[1;32m<ipython-input-46-edcd66a45210>\u001b[0m in \u001b[0;36m<module>\u001b[1;34m\u001b[0m\n\u001b[1;32m----> 1\u001b[1;33m \u001b[0mc\u001b[0m\u001b[1;33m.\u001b[0m\u001b[0mexecute\u001b[0m\u001b[1;33m(\u001b[0m\u001b[1;34m'create table student(student_id int , student_name text , student_mailid text , marks int)'\u001b[0m\u001b[1;33m)\u001b[0m\u001b[1;33m\u001b[0m\u001b[1;33m\u001b[0m\u001b[0m\n\u001b[0m",
      "\u001b[1;31mOperationalError\u001b[0m: table student already exists"
     ]
    }
   ],
   "source": [
    "c.execute('create table student(student_id int , student_name text , student_mailid text , marks int)')"
   ]
  },
  {
   "cell_type": "code",
   "execution_count": 47,
   "id": "7a7c844f",
   "metadata": {},
   "outputs": [
    {
     "ename": "OperationalError",
     "evalue": "table address already exists",
     "output_type": "error",
     "traceback": [
      "\u001b[1;31m---------------------------------------------------------------------------\u001b[0m",
      "\u001b[1;31mOperationalError\u001b[0m                          Traceback (most recent call last)",
      "\u001b[1;32m<ipython-input-47-7f7ecef0e6f2>\u001b[0m in \u001b[0;36m<module>\u001b[1;34m\u001b[0m\n\u001b[1;32m----> 1\u001b[1;33m \u001b[0mc\u001b[0m\u001b[1;33m.\u001b[0m\u001b[0mexecute\u001b[0m\u001b[1;33m(\u001b[0m\u001b[1;34m'create table address(student_id int ,pincode int  , location text , nearby text , phone_no int)'\u001b[0m\u001b[1;33m)\u001b[0m\u001b[1;33m\u001b[0m\u001b[1;33m\u001b[0m\u001b[0m\n\u001b[0m",
      "\u001b[1;31mOperationalError\u001b[0m: table address already exists"
     ]
    }
   ],
   "source": [
    "c.execute('create table address(student_id int ,pincode int  , location text , nearby text , phone_no int)')"
   ]
  },
  {
   "cell_type": "code",
   "execution_count": 48,
   "id": "26fe8b3d",
   "metadata": {},
   "outputs": [
    {
     "data": {
      "text/plain": [
       "<sqlite3.Cursor at 0x1ed3ff53ea0>"
      ]
     },
     "execution_count": 48,
     "metadata": {},
     "output_type": "execute_result"
    }
   ],
   "source": [
    "c.execute(\"insert into student values(234,'sudhashu' , 'sudhanshu@ineuron.ai' , 234)\")\n",
    "c.execute(\"insert into student values(235,'sudhashu' , 'sudhanshu@ineuron.ai' , 234)\")\n",
    "c.execute(\"insert into student values(236,'sudhashu' , 'sudhanshu@ineuron.ai' , 234)\")\n",
    "c.execute(\"insert into student values(237,'sudhashu' , 'sudhanshu@ineuron.ai' , 234)\")\n",
    "c.execute(\"insert into student values(238,'sudhashu' , 'sudhanshu@ineuron.ai' , 234)\")\n",
    "c.execute(\"insert into student values(239,'sudhashu' , 'sudhanshu@ineuron.ai' , 234)\")\n",
    "c.execute(\"insert into student values(2310,'sudhashu' , 'sudhanshu@ineuron.ai' , 234)\")\n",
    "c.execute(\"insert into student values(2311,'sudhashu' , 'sudhanshu@ineuron.ai' , 234)\")\n",
    "c.execute(\"insert into student values(2343,'sudhashu' , 'sudhanshu@ineuron.ai' , 234)\")\n",
    "c.execute(\"insert into student values(233543,'sudhashu' , 'sudhanshu@ineuron.ai' , 234)\")\n",
    "c.execute(\"insert into student values(23345,'sudhashu' , 'sudhanshu@ineuron.ai' , 234)\")\n",
    "c.execute(\"insert into student values(233543,'sudhashu' , 'sudhanshu@ineuron.ai' , 234)\")"
   ]
  },
  {
   "cell_type": "code",
   "execution_count": 49,
   "id": "12d5b321",
   "metadata": {},
   "outputs": [
    {
     "data": {
      "text/plain": [
       "<sqlite3.Cursor at 0x1ed3ff53ea0>"
      ]
     },
     "execution_count": 49,
     "metadata": {},
     "output_type": "execute_result"
    }
   ],
   "source": [
    "c.execute(\"insert into address values(235 , 560034 , 'whitefelid' ,'ineuron office ' , 2423543454353 )\")"
   ]
  },
  {
   "cell_type": "code",
   "execution_count": 50,
   "id": "f306826b",
   "metadata": {},
   "outputs": [
    {
     "data": {
      "text/plain": [
       "<sqlite3.Cursor at 0x1ed3ff53ea0>"
      ]
     },
     "execution_count": 50,
     "metadata": {},
     "output_type": "execute_result"
    }
   ],
   "source": [
    "c.execute(\"insert into address values(236 , 560034 , 'whitefelid' ,'ineuron office ' , 2423543454353 )\")\n",
    "c.execute(\"insert into address values(237 , 560034 , 'whitefelid' ,'ineuron office ' , 2423543454353 )\")\n",
    "c.execute(\"insert into address values(238 , 560034 , 'whitefelid' ,'ineuron office ' , 2423543454353 )\")\n",
    "c.execute(\"insert into address values(239 , 560034 , 'whitefelid' ,'ineuron office ' , 2423543454353 )\")\n",
    "c.execute(\"insert into address values(210 , 560034 , 'whitefelid' ,'ineuron office ' , 2423543454353 )\")\n",
    "c.execute(\"insert into address values(23345 , 560034 , 'whitefelid' ,'ineuron office ' , 2423543454353 )\")\n",
    "c.execute(\"insert into address values(23345 , 560034 , 'whitefelid' ,'ineuron office ' , 2423543454353 )\")\n",
    "c.execute(\"insert into address values(23654 , 560034 , 'whitefelid' ,'ineuron office ' , 2423543454353 )\")\n",
    "c.execute(\"insert into address values(235345 , 560034 , 'whitefelid' ,'ineuron office ' , 2423543454353 )\")\n",
    "c.execute(\"insert into address values(23665 , 560034 , 'whitefelid' ,'ineuron office ' , 2423543454353 )\")\n",
    "c.execute(\"insert into address values(23623 , 560034 , 'whitefelid' ,'ineuron office ' , 2423543454353 )\")\n",
    "c.execute(\"insert into address values(23689 , 560034 , 'whitefelid' ,'ineuron office ' , 2423543454353 )\")\n",
    "c.execute(\"insert into address values(23609 , 560034 , 'whitefelid' ,'ineuron office ' , 2423543454353 )\")\n",
    "c.execute(\"insert into address values(23632 , 560034 , 'whitefelid' ,'ineuron office ' , 2423543454353 )\")\n",
    "c.execute(\"insert into address values(23689 , 560034 , 'whitefelid' ,'ineuron office ' , 2423543454353 )\")\n",
    "c.execute(\"insert into address values(23623 , 560034 , 'whitefelid' ,'ineuron office ' , 2423543454353 )\")\n",
    "c.execute(\"insert into address values(23698 , 560034 , 'whitefelid' ,'ineuron office ' , 2423543454353 )\")\n",
    "c.execute(\"insert into address values(23623 , 560034 , 'whitefelid' ,'ineuron office ' , 2423543454353 )\")\n",
    "c.execute(\"insert into address values(23689 , 560034 , 'whitefelid' ,'ineuron office ' , 2423543454353 )\")\n",
    "c.execute(\"insert into address values(23623 , 560034 , 'whitefelid' ,'ineuron office ' , 2423543454353 )\")\n",
    "c.execute(\"insert into address values(23690 , 560034 , 'whitefelid' ,'ineuron office ' , 2423543454353 )\")\n"
   ]
  },
  {
   "cell_type": "code",
   "execution_count": 51,
   "id": "9ec3be39",
   "metadata": {},
   "outputs": [
    {
     "name": "stdout",
     "output_type": "stream",
     "text": [
      "(235, 560034, 'whitefelid', 'ineuron office ', 2423543454353)\n",
      "(236, 560034, 'whitefelid', 'ineuron office ', 2423543454353)\n",
      "(237, 560034, 'whitefelid', 'ineuron office ', 2423543454353)\n",
      "(238, 560034, 'whitefelid', 'ineuron office ', 2423543454353)\n",
      "(239, 560034, 'whitefelid', 'ineuron office ', 2423543454353)\n",
      "(210, 560034, 'whitefelid', 'ineuron office ', 2423543454353)\n",
      "(23345, 560034, 'whitefelid', 'ineuron office ', 2423543454353)\n",
      "(23345, 560034, 'whitefelid', 'ineuron office ', 2423543454353)\n",
      "(23654, 560034, 'whitefelid', 'ineuron office ', 2423543454353)\n",
      "(235345, 560034, 'whitefelid', 'ineuron office ', 2423543454353)\n",
      "(23665, 560034, 'whitefelid', 'ineuron office ', 2423543454353)\n",
      "(23623, 560034, 'whitefelid', 'ineuron office ', 2423543454353)\n",
      "(23689, 560034, 'whitefelid', 'ineuron office ', 2423543454353)\n",
      "(23609, 560034, 'whitefelid', 'ineuron office ', 2423543454353)\n",
      "(23632, 560034, 'whitefelid', 'ineuron office ', 2423543454353)\n",
      "(23689, 560034, 'whitefelid', 'ineuron office ', 2423543454353)\n",
      "(23623, 560034, 'whitefelid', 'ineuron office ', 2423543454353)\n",
      "(23698, 560034, 'whitefelid', 'ineuron office ', 2423543454353)\n",
      "(23623, 560034, 'whitefelid', 'ineuron office ', 2423543454353)\n",
      "(23689, 560034, 'whitefelid', 'ineuron office ', 2423543454353)\n",
      "(23623, 560034, 'whitefelid', 'ineuron office ', 2423543454353)\n",
      "(23690, 560034, 'whitefelid', 'ineuron office ', 2423543454353)\n"
     ]
    }
   ],
   "source": [
    "for i in c.execute('select * from address'):\n",
    "    print(i)"
   ]
  },
  {
   "cell_type": "code",
   "execution_count": 52,
   "id": "1d152ee6",
   "metadata": {},
   "outputs": [
    {
     "name": "stdout",
     "output_type": "stream",
     "text": [
      "(234, 'sudhashu', 'sudhanshu@ineuron.ai', 234)\n",
      "(235, 'sudhashu', 'sudhanshu@ineuron.ai', 234)\n",
      "(236, 'sudhashu', 'sudhanshu@ineuron.ai', 234)\n",
      "(237, 'sudhashu', 'sudhanshu@ineuron.ai', 234)\n",
      "(238, 'sudhashu', 'sudhanshu@ineuron.ai', 234)\n",
      "(239, 'sudhashu', 'sudhanshu@ineuron.ai', 234)\n",
      "(2310, 'sudhashu', 'sudhanshu@ineuron.ai', 234)\n",
      "(2311, 'sudhashu', 'sudhanshu@ineuron.ai', 234)\n",
      "(2343, 'sudhashu', 'sudhanshu@ineuron.ai', 234)\n",
      "(233543, 'sudhashu', 'sudhanshu@ineuron.ai', 234)\n",
      "(23345, 'sudhashu', 'sudhanshu@ineuron.ai', 234)\n",
      "(233543, 'sudhashu', 'sudhanshu@ineuron.ai', 234)\n"
     ]
    }
   ],
   "source": [
    "for i in c.execute('select * from student'):\n",
    "    print(i)"
   ]
  },
  {
   "cell_type": "code",
   "execution_count": 53,
   "id": "88951559",
   "metadata": {},
   "outputs": [],
   "source": [
    "data = c.execute(\"select * from student s left join address a on s.student_id=a.student_id \")\n"
   ]
  },
  {
   "cell_type": "code",
   "execution_count": 54,
   "id": "75c1da7f",
   "metadata": {},
   "outputs": [
    {
     "name": "stdout",
     "output_type": "stream",
     "text": [
      "(234, 'sudhashu', 'sudhanshu@ineuron.ai', 234, None, None, None, None, None)\n",
      "(235, 'sudhashu', 'sudhanshu@ineuron.ai', 234, 235, 560034, 'whitefelid', 'ineuron office ', 2423543454353)\n",
      "(236, 'sudhashu', 'sudhanshu@ineuron.ai', 234, 236, 560034, 'whitefelid', 'ineuron office ', 2423543454353)\n",
      "(237, 'sudhashu', 'sudhanshu@ineuron.ai', 234, 237, 560034, 'whitefelid', 'ineuron office ', 2423543454353)\n",
      "(238, 'sudhashu', 'sudhanshu@ineuron.ai', 234, 238, 560034, 'whitefelid', 'ineuron office ', 2423543454353)\n",
      "(239, 'sudhashu', 'sudhanshu@ineuron.ai', 234, 239, 560034, 'whitefelid', 'ineuron office ', 2423543454353)\n",
      "(2310, 'sudhashu', 'sudhanshu@ineuron.ai', 234, None, None, None, None, None)\n",
      "(2311, 'sudhashu', 'sudhanshu@ineuron.ai', 234, None, None, None, None, None)\n",
      "(2343, 'sudhashu', 'sudhanshu@ineuron.ai', 234, None, None, None, None, None)\n",
      "(233543, 'sudhashu', 'sudhanshu@ineuron.ai', 234, None, None, None, None, None)\n",
      "(23345, 'sudhashu', 'sudhanshu@ineuron.ai', 234, 23345, 560034, 'whitefelid', 'ineuron office ', 2423543454353)\n",
      "(23345, 'sudhashu', 'sudhanshu@ineuron.ai', 234, 23345, 560034, 'whitefelid', 'ineuron office ', 2423543454353)\n",
      "(233543, 'sudhashu', 'sudhanshu@ineuron.ai', 234, None, None, None, None, None)\n"
     ]
    }
   ],
   "source": [
    "for i in data:\n",
    "    print(i)"
   ]
  },
  {
   "cell_type": "code",
   "execution_count": 55,
   "id": "63e9ead3",
   "metadata": {},
   "outputs": [
    {
     "ename": "SyntaxError",
     "evalue": "invalid syntax (<ipython-input-55-0972313182fc>, line 1)",
     "output_type": "error",
     "traceback": [
      "\u001b[1;36m  File \u001b[1;32m\"<ipython-input-55-0972313182fc>\"\u001b[1;36m, line \u001b[1;32m1\u001b[0m\n\u001b[1;33m    where a.student_id is not null\u001b[0m\n\u001b[1;37m          ^\u001b[0m\n\u001b[1;31mSyntaxError\u001b[0m\u001b[1;31m:\u001b[0m invalid syntax\n"
     ]
    }
   ],
   "source": [
    "where a.student_id is not null"
   ]
  },
  {
   "cell_type": "code",
   "execution_count": 56,
   "id": "1dec96d2",
   "metadata": {},
   "outputs": [],
   "source": [
    "data = c.execute(\"select * from address s left join student a on s.student_id=a.student_id \")"
   ]
  },
  {
   "cell_type": "code",
   "execution_count": 57,
   "id": "c328f750",
   "metadata": {},
   "outputs": [
    {
     "name": "stdout",
     "output_type": "stream",
     "text": [
      "(235, 560034, 'whitefelid', 'ineuron office ', 2423543454353, 235, 'sudhashu', 'sudhanshu@ineuron.ai', 234)\n",
      "(236, 560034, 'whitefelid', 'ineuron office ', 2423543454353, 236, 'sudhashu', 'sudhanshu@ineuron.ai', 234)\n",
      "(237, 560034, 'whitefelid', 'ineuron office ', 2423543454353, 237, 'sudhashu', 'sudhanshu@ineuron.ai', 234)\n",
      "(238, 560034, 'whitefelid', 'ineuron office ', 2423543454353, 238, 'sudhashu', 'sudhanshu@ineuron.ai', 234)\n",
      "(239, 560034, 'whitefelid', 'ineuron office ', 2423543454353, 239, 'sudhashu', 'sudhanshu@ineuron.ai', 234)\n",
      "(210, 560034, 'whitefelid', 'ineuron office ', 2423543454353, None, None, None, None)\n",
      "(23345, 560034, 'whitefelid', 'ineuron office ', 2423543454353, 23345, 'sudhashu', 'sudhanshu@ineuron.ai', 234)\n",
      "(23345, 560034, 'whitefelid', 'ineuron office ', 2423543454353, 23345, 'sudhashu', 'sudhanshu@ineuron.ai', 234)\n",
      "(23654, 560034, 'whitefelid', 'ineuron office ', 2423543454353, None, None, None, None)\n",
      "(235345, 560034, 'whitefelid', 'ineuron office ', 2423543454353, None, None, None, None)\n",
      "(23665, 560034, 'whitefelid', 'ineuron office ', 2423543454353, None, None, None, None)\n",
      "(23623, 560034, 'whitefelid', 'ineuron office ', 2423543454353, None, None, None, None)\n",
      "(23689, 560034, 'whitefelid', 'ineuron office ', 2423543454353, None, None, None, None)\n",
      "(23609, 560034, 'whitefelid', 'ineuron office ', 2423543454353, None, None, None, None)\n",
      "(23632, 560034, 'whitefelid', 'ineuron office ', 2423543454353, None, None, None, None)\n",
      "(23689, 560034, 'whitefelid', 'ineuron office ', 2423543454353, None, None, None, None)\n",
      "(23623, 560034, 'whitefelid', 'ineuron office ', 2423543454353, None, None, None, None)\n",
      "(23698, 560034, 'whitefelid', 'ineuron office ', 2423543454353, None, None, None, None)\n",
      "(23623, 560034, 'whitefelid', 'ineuron office ', 2423543454353, None, None, None, None)\n",
      "(23689, 560034, 'whitefelid', 'ineuron office ', 2423543454353, None, None, None, None)\n",
      "(23623, 560034, 'whitefelid', 'ineuron office ', 2423543454353, None, None, None, None)\n",
      "(23690, 560034, 'whitefelid', 'ineuron office ', 2423543454353, None, None, None, None)\n"
     ]
    }
   ],
   "source": [
    "for i in data :\n",
    "    print(i)"
   ]
  },
  {
   "cell_type": "code",
   "execution_count": 58,
   "id": "3188abde",
   "metadata": {},
   "outputs": [
    {
     "name": "stdout",
     "output_type": "stream",
     "text": [
      "(234, 'sudhashu', 'sudhanshu@ineuron.ai', 234)\n",
      "(235, 'sudhashu', 'sudhanshu@ineuron.ai', 234)\n",
      "(236, 'sudhashu', 'sudhanshu@ineuron.ai', 234)\n",
      "(237, 'sudhashu', 'sudhanshu@ineuron.ai', 234)\n",
      "(238, 'sudhashu', 'sudhanshu@ineuron.ai', 234)\n",
      "(239, 'sudhashu', 'sudhanshu@ineuron.ai', 234)\n",
      "(2310, 'sudhashu', 'sudhanshu@ineuron.ai', 234)\n",
      "(2311, 'sudhashu', 'sudhanshu@ineuron.ai', 234)\n",
      "(2343, 'sudhashu', 'sudhanshu@ineuron.ai', 234)\n",
      "(233543, 'sudhashu', 'sudhanshu@ineuron.ai', 234)\n",
      "(23345, 'sudhashu', 'sudhanshu@ineuron.ai', 234)\n",
      "(233543, 'sudhashu', 'sudhanshu@ineuron.ai', 234)\n"
     ]
    }
   ],
   "source": [
    "for i in c.execute(\"select * from student\"):\n",
    "    print(i)"
   ]
  },
  {
   "cell_type": "code",
   "execution_count": 59,
   "id": "79d806e2",
   "metadata": {},
   "outputs": [
    {
     "data": {
      "text/plain": [
       "<sqlite3.Cursor at 0x1ed3ff53ea0>"
      ]
     },
     "execution_count": 59,
     "metadata": {},
     "output_type": "execute_result"
    }
   ],
   "source": [
    "c.execute('delete from student where student_id > 2000')"
   ]
  },
  {
   "cell_type": "code",
   "execution_count": 60,
   "id": "79a7d7ff",
   "metadata": {},
   "outputs": [
    {
     "name": "stdout",
     "output_type": "stream",
     "text": [
      "(234, 'sudhashu', 'sudhanshu@ineuron.ai', 234)\n",
      "(235, 'sudhashu', 'sudhanshu@ineuron.ai', 234)\n",
      "(236, 'sudhashu', 'sudhanshu@ineuron.ai', 234)\n",
      "(237, 'sudhashu', 'sudhanshu@ineuron.ai', 234)\n",
      "(238, 'sudhashu', 'sudhanshu@ineuron.ai', 234)\n",
      "(239, 'sudhashu', 'sudhanshu@ineuron.ai', 234)\n"
     ]
    }
   ],
   "source": [
    "for i in c.execute(\"select * from student\"):\n",
    "    print(i)"
   ]
  },
  {
   "cell_type": "code",
   "execution_count": 61,
   "id": "27952ba7",
   "metadata": {},
   "outputs": [],
   "source": [
    "data = c.execute(\"select * from student\")"
   ]
  },
  {
   "cell_type": "code",
   "execution_count": 62,
   "id": "e288545f",
   "metadata": {},
   "outputs": [
    {
     "data": {
      "text/plain": [
       "[(234, 'sudhashu', 'sudhanshu@ineuron.ai', 234),\n",
       " (235, 'sudhashu', 'sudhanshu@ineuron.ai', 234),\n",
       " (236, 'sudhashu', 'sudhanshu@ineuron.ai', 234),\n",
       " (237, 'sudhashu', 'sudhanshu@ineuron.ai', 234),\n",
       " (238, 'sudhashu', 'sudhanshu@ineuron.ai', 234),\n",
       " (239, 'sudhashu', 'sudhanshu@ineuron.ai', 234)]"
      ]
     },
     "execution_count": 62,
     "metadata": {},
     "output_type": "execute_result"
    }
   ],
   "source": [
    "data.fetchall()"
   ]
  },
  {
   "cell_type": "code",
   "execution_count": 63,
   "id": "e0315062",
   "metadata": {},
   "outputs": [
    {
     "data": {
      "text/plain": [
       "<sqlite3.Cursor at 0x1ed3ff53ea0>"
      ]
     },
     "execution_count": 63,
     "metadata": {},
     "output_type": "execute_result"
    }
   ],
   "source": [
    "c.execute(\"update student set student_id = 1000 where student_id = 236\")"
   ]
  },
  {
   "cell_type": "code",
   "execution_count": 64,
   "id": "541223df",
   "metadata": {},
   "outputs": [
    {
     "data": {
      "text/plain": [
       "[(234, 'sudhashu', 'sudhanshu@ineuron.ai', 234),\n",
       " (235, 'sudhashu', 'sudhanshu@ineuron.ai', 234),\n",
       " (1000, 'sudhashu', 'sudhanshu@ineuron.ai', 234),\n",
       " (237, 'sudhashu', 'sudhanshu@ineuron.ai', 234),\n",
       " (238, 'sudhashu', 'sudhanshu@ineuron.ai', 234),\n",
       " (239, 'sudhashu', 'sudhanshu@ineuron.ai', 234)]"
      ]
     },
     "execution_count": 64,
     "metadata": {},
     "output_type": "execute_result"
    }
   ],
   "source": [
    "data = c.execute(\"select * from student\")\n",
    "data.fetchall()"
   ]
  },
  {
   "cell_type": "code",
   "execution_count": 65,
   "id": "ebbc000b",
   "metadata": {},
   "outputs": [],
   "source": [
    "db.close()"
   ]
  },
  {
   "cell_type": "code",
   "execution_count": 66,
   "id": "31cacec5",
   "metadata": {},
   "outputs": [],
   "source": [
    "l = [1,2,3,4,5,6]"
   ]
  },
  {
   "cell_type": "code",
   "execution_count": 67,
   "id": "06782d1f",
   "metadata": {},
   "outputs": [],
   "source": [
    "def test(a):\n",
    "    return a+5"
   ]
  },
  {
   "cell_type": "code",
   "execution_count": 68,
   "id": "c069e29c",
   "metadata": {},
   "outputs": [],
   "source": [
    "l1=[]\n",
    "for i in l:\n",
    "    l1.append(i+5)"
   ]
  },
  {
   "cell_type": "code",
   "execution_count": 69,
   "id": "29977420",
   "metadata": {},
   "outputs": [
    {
     "data": {
      "text/plain": [
       "[6, 7, 8, 9, 10, 11]"
      ]
     },
     "execution_count": 69,
     "metadata": {},
     "output_type": "execute_result"
    }
   ],
   "source": [
    "l1"
   ]
  },
  {
   "cell_type": "code",
   "execution_count": 70,
   "id": "70eba033",
   "metadata": {},
   "outputs": [
    {
     "data": {
      "text/plain": [
       "[6, 7, 8, 9, 10, 11]"
      ]
     },
     "execution_count": 70,
     "metadata": {},
     "output_type": "execute_result"
    }
   ],
   "source": [
    "[i+5 for i in l]"
   ]
  },
  {
   "cell_type": "code",
   "execution_count": 71,
   "id": "98ba980b",
   "metadata": {},
   "outputs": [
    {
     "data": {
      "text/plain": [
       "[6, 7, 8, 9, 10, 11]"
      ]
     },
     "execution_count": 71,
     "metadata": {},
     "output_type": "execute_result"
    }
   ],
   "source": [
    "list(map(test, l))"
   ]
  },
  {
   "cell_type": "code",
   "execution_count": 72,
   "id": "7b4e68c2",
   "metadata": {},
   "outputs": [],
   "source": [
    "def test1(a): \n",
    "    return a*3454+454"
   ]
  },
  {
   "cell_type": "code",
   "execution_count": 73,
   "id": "6eb30bef",
   "metadata": {},
   "outputs": [
    {
     "data": {
      "text/plain": [
       "[3908, 7362, 10816, 14270, 17724, 21178]"
      ]
     },
     "execution_count": 73,
     "metadata": {},
     "output_type": "execute_result"
    }
   ],
   "source": [
    "list(map(test1,l))"
   ]
  },
  {
   "cell_type": "code",
   "execution_count": 74,
   "id": "ed54cb1b",
   "metadata": {},
   "outputs": [],
   "source": [
    "l1 = ['234','345','543','5435','543','5435']"
   ]
  },
  {
   "cell_type": "code",
   "execution_count": 75,
   "id": "e876b31f",
   "metadata": {},
   "outputs": [],
   "source": [
    "def test2(a):\n",
    "    return int(a)"
   ]
  },
  {
   "cell_type": "code",
   "execution_count": 76,
   "id": "35e0e005",
   "metadata": {},
   "outputs": [
    {
     "data": {
      "text/plain": [
       "54656"
      ]
     },
     "execution_count": 76,
     "metadata": {},
     "output_type": "execute_result"
    }
   ],
   "source": [
    "test2('54656')"
   ]
  },
  {
   "cell_type": "code",
   "execution_count": 77,
   "id": "7be6880d",
   "metadata": {},
   "outputs": [
    {
     "data": {
      "text/plain": [
       "[234, 345, 543, 5435, 543, 5435]"
      ]
     },
     "execution_count": 77,
     "metadata": {},
     "output_type": "execute_result"
    }
   ],
   "source": [
    "list(map(test2,l1))"
   ]
  },
  {
   "cell_type": "code",
   "execution_count": 78,
   "id": "584876ae",
   "metadata": {},
   "outputs": [
    {
     "data": {
      "text/plain": [
       "[234, 345, 543, 5435, 543, 5435]"
      ]
     },
     "execution_count": 78,
     "metadata": {},
     "output_type": "execute_result"
    }
   ],
   "source": [
    "list(map(lambda x :int(x),l1 ))"
   ]
  },
  {
   "cell_type": "code",
   "execution_count": 79,
   "id": "2a62a364",
   "metadata": {},
   "outputs": [
    {
     "data": {
      "text/plain": [
       "[6, 7, 8, 9, 10, 11]"
      ]
     },
     "execution_count": 79,
     "metadata": {},
     "output_type": "execute_result"
    }
   ],
   "source": [
    "list(map(lambda x:x+5,l))"
   ]
  },
  {
   "cell_type": "code",
   "execution_count": 80,
   "id": "b9b39ebf",
   "metadata": {},
   "outputs": [
    {
     "data": {
      "text/plain": [
       "[1, 2, 3, 4, 5, 6]"
      ]
     },
     "execution_count": 80,
     "metadata": {},
     "output_type": "execute_result"
    }
   ],
   "source": [
    "l"
   ]
  },
  {
   "cell_type": "code",
   "execution_count": 81,
   "id": "21a7a3a6",
   "metadata": {},
   "outputs": [],
   "source": [
    "l = [4,5,6,7,78,8,78]"
   ]
  },
  {
   "cell_type": "code",
   "execution_count": 82,
   "id": "bb72e8bb",
   "metadata": {},
   "outputs": [],
   "source": [
    "def test4(a):\n",
    "    if a%2==0:\n",
    "        return a"
   ]
  },
  {
   "cell_type": "code",
   "execution_count": 83,
   "id": "162c877d",
   "metadata": {},
   "outputs": [
    {
     "data": {
      "text/plain": [
       "[4, 6, 78, 8, 78]"
      ]
     },
     "execution_count": 83,
     "metadata": {},
     "output_type": "execute_result"
    }
   ],
   "source": [
    "[i for i in l if i%2 ==0]"
   ]
  },
  {
   "cell_type": "code",
   "execution_count": 84,
   "id": "5ad2e55e",
   "metadata": {},
   "outputs": [
    {
     "data": {
      "text/plain": [
       "[4, 6, 78, 8, 78]"
      ]
     },
     "execution_count": 84,
     "metadata": {},
     "output_type": "execute_result"
    }
   ],
   "source": [
    "list(filter(test4,l))"
   ]
  },
  {
   "cell_type": "code",
   "execution_count": 85,
   "id": "2d8269c5",
   "metadata": {},
   "outputs": [
    {
     "data": {
      "text/plain": [
       "[4, 6, 78, 8, 78]"
      ]
     },
     "execution_count": 85,
     "metadata": {},
     "output_type": "execute_result"
    }
   ],
   "source": [
    "list(filter(lambda x:x%2==0,l))"
   ]
  },
  {
   "cell_type": "code",
   "execution_count": 86,
   "id": "d11c17b0",
   "metadata": {},
   "outputs": [
    {
     "data": {
      "text/plain": [
       "[6, 78, 78]"
      ]
     },
     "execution_count": 86,
     "metadata": {},
     "output_type": "execute_result"
    }
   ],
   "source": [
    "list(filter(lambda x : x%3==0,l))"
   ]
  },
  {
   "cell_type": "code",
   "execution_count": 87,
   "id": "a4bd66bd",
   "metadata": {},
   "outputs": [
    {
     "data": {
      "text/plain": [
       "[4, 5, 6, 7, 78, 8, 78]"
      ]
     },
     "execution_count": 87,
     "metadata": {},
     "output_type": "execute_result"
    }
   ],
   "source": [
    "l"
   ]
  },
  {
   "cell_type": "code",
   "execution_count": 88,
   "id": "b9f69b35",
   "metadata": {},
   "outputs": [],
   "source": [
    "from functools import reduce"
   ]
  },
  {
   "cell_type": "code",
   "execution_count": 89,
   "id": "65b9d2e7",
   "metadata": {},
   "outputs": [],
   "source": [
    "l =[3,4,5,6,7,3,8]"
   ]
  },
  {
   "cell_type": "code",
   "execution_count": 90,
   "id": "b34e528f",
   "metadata": {},
   "outputs": [
    {
     "data": {
      "text/plain": [
       "36"
      ]
     },
     "execution_count": 90,
     "metadata": {},
     "output_type": "execute_result"
    }
   ],
   "source": [
    "sum(l)"
   ]
  },
  {
   "cell_type": "code",
   "execution_count": 91,
   "id": "8220cf97",
   "metadata": {},
   "outputs": [],
   "source": [
    "def test5(a,b): \n",
    "    return a+b"
   ]
  },
  {
   "cell_type": "code",
   "execution_count": 92,
   "id": "b38f20c3",
   "metadata": {},
   "outputs": [
    {
     "data": {
      "text/plain": [
       "36"
      ]
     },
     "execution_count": 92,
     "metadata": {},
     "output_type": "execute_result"
    }
   ],
   "source": [
    "reduce(test5,l)"
   ]
  },
  {
   "cell_type": "code",
   "execution_count": 93,
   "id": "989f39ce",
   "metadata": {},
   "outputs": [],
   "source": [
    "l=[8,5,6,7,8,8]"
   ]
  },
  {
   "cell_type": "code",
   "execution_count": 94,
   "id": "0813029e",
   "metadata": {},
   "outputs": [
    {
     "data": {
      "text/plain": [
       "42"
      ]
     },
     "execution_count": 94,
     "metadata": {},
     "output_type": "execute_result"
    }
   ],
   "source": [
    "reduce(test5,l)"
   ]
  },
  {
   "cell_type": "code",
   "execution_count": 95,
   "id": "05734b7b",
   "metadata": {},
   "outputs": [
    {
     "data": {
      "text/plain": [
       "0.0005952380952380952"
      ]
     },
     "execution_count": 95,
     "metadata": {},
     "output_type": "execute_result"
    }
   ],
   "source": [
    "reduce(lambda x,y :x/y , l)"
   ]
  },
  {
   "cell_type": "code",
   "execution_count": 96,
   "id": "cebbc373",
   "metadata": {},
   "outputs": [],
   "source": [
    "l = [1,2,3,4]\n",
    "l1 = [4,5,6,7,7]\n",
    "l2 = [\"sudhanshu\" , \"kumar\" , \"krish\" , \"sunny\" , \"ineuron\"]"
   ]
  },
  {
   "cell_type": "code",
   "execution_count": 97,
   "id": "fc75c648",
   "metadata": {},
   "outputs": [
    {
     "data": {
      "text/plain": [
       "[(1, 4, 'sudhanshu'), (2, 5, 'kumar'), (3, 6, 'krish'), (4, 7, 'sunny')]"
      ]
     },
     "execution_count": 97,
     "metadata": {},
     "output_type": "execute_result"
    }
   ],
   "source": [
    "list(zip(l,l1,l2))"
   ]
  },
  {
   "cell_type": "code",
   "execution_count": null,
   "id": "fac2b37f",
   "metadata": {},
   "outputs": [],
   "source": [
    "\"\"\"Task for today :\n",
    "  dataset -   https://archive.ics.uci.edu/ml/datasets/Bag+of+Words\n",
    "    \n",
    "    q1 = try to find out a count of each and every word in a respective file return a list of tuple with word and its respective count \n",
    "       sample example -  [('sudh', 6 ) , ('kumar',3)]\n",
    "    q2 = try to perform a reduce operation to get a count of all the word starting with same alphabet\n",
    "        sample examle = [(a,56) , (b,34),...........]\n",
    "    q3 = Try to filter out all the words from dataset . \n",
    "    \n",
    "    .001.abstract = abstract\n",
    "    =.002 = delete\n",
    "    q4 = create a tuple set of all the records avaialble in all the five file and then store it in sqllite DB . \n",
    "    (aah,>=,354,fdsf,wer)\n",
    "    \n",
    "    Top 10 will be able to get kids neuron \"\"\"\n",
    "    "
   ]
  }
 ],
 "metadata": {
  "kernelspec": {
   "display_name": "Python 3",
   "language": "python",
   "name": "python3"
  },
  "language_info": {
   "codemirror_mode": {
    "name": "ipython",
    "version": 3
   },
   "file_extension": ".py",
   "mimetype": "text/x-python",
   "name": "python",
   "nbconvert_exporter": "python",
   "pygments_lexer": "ipython3",
   "version": "3.8.8"
  }
 },
 "nbformat": 4,
 "nbformat_minor": 5
}
